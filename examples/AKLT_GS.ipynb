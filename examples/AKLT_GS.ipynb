{
 "cells": [
  {
   "cell_type": "code",
   "execution_count": 1,
   "metadata": {},
   "outputs": [],
   "source": [
    "include(\"../src/iTEBD.jl\")\n",
    "using Main.iTEBD, LinearAlgebra \n",
    "\n",
    "# Spin-1 operators\n",
    "const X = sqrt(2)/2 * [0 1 0; 1 0 1; 0 1 0]\n",
    "const Y = sqrt(2)/2 * 1im * [0 -1 0; 1 0 -1; 0 1 0]\n",
    "const Z = [1 0 0; 0 0 0; 0 0 -1]\n",
    "\n",
    "# Exact AKLT ground state\n",
    "const aklt = begin\n",
    "    tensor = zeros(2,3,2)\n",
    "    tensor[1,1,2] = +sqrt(2/3)\n",
    "    tensor[1,2,1] = -sqrt(1/3)\n",
    "    tensor[2,2,2] = +sqrt(1/3)\n",
    "    tensor[2,3,1] = -sqrt(2/3)\n",
    "    iMPS([tensor, tensor])\n",
    "end;"
   ]
  },
  {
   "cell_type": "markdown",
   "metadata": {},
   "source": [
    "## AKLT Ground State"
   ]
  },
  {
   "cell_type": "code",
   "execution_count": 2,
   "metadata": {},
   "outputs": [],
   "source": [
    "dτ = 0.1\n",
    "gate = begin\n",
    "    SS = kron(X,X)+kron(Y,Y)+kron(Z,Z)\n",
    "\tH = 1/2 * SS + 1/6 * SS^2 + 1/3*I\n",
    "    expH = exp(- dτ * H)\n",
    "end;"
   ]
  },
  {
   "cell_type": "markdown",
   "metadata": {},
   "source": [
    "Imaginary iTEBD evolution:"
   ]
  },
  {
   "cell_type": "code",
   "execution_count": 7,
   "metadata": {},
   "outputs": [
    {
     "name": "stdout",
     "output_type": "stream",
     "text": [
      "T = 10, Overlap: 0.6089826142835723\n",
      "T = 20, Overlap: 0.8013928827587481\n",
      "T = 30, Overlap: 0.8906020866305963\n",
      "T = 40, Overlap: 0.9415264147864029\n",
      "T = 50, Overlap: 0.9696293059058144\n",
      "T = 60, Overlap: 0.9845192739588057\n",
      "T = 70, Overlap: 0.9921989462849088\n",
      "T = 80, Overlap: 0.9960946801321382\n",
      "T = 90, Overlap: 0.9980517977792839\n",
      "T = 100, Overlap: 0.9990300950468818\n",
      "T = 110, Overlap: 0.9995177112245762\n",
      "T = 120, Overlap: 0.999760325401397\n",
      "T = 130, Overlap: 0.9998809302145119\n",
      "T = 140, Overlap: 0.9999408558275497\n",
      "T = 150, Overlap: 0.9999706243643296\n",
      "T = 160, Overlap: 0.9999854103481934\n",
      "T = 170, Overlap: 0.9999927540768883\n",
      "T = 180, Overlap: 0.9999964013627253\n",
      "T = 190, Overlap: 0.9999982127710054\n",
      "T = 200, Overlap: 0.9999991123919876\n"
     ]
    }
   ],
   "source": [
    "psi = rand_iMPS(ComplexF64, 2, 3, 1)\n",
    "for i=1:200\n",
    "    applygate!(psi, gate, 1, 2, maxdim=8)\n",
    "    applygate!(psi, gate, 2, 1, maxdim=8)\n",
    "    if mod(i, 10) == 0\n",
    "        println(\"T = $i, Overlap: \", inner_product(aklt, psi))\n",
    "    end\n",
    "end"
   ]
  },
  {
   "cell_type": "code",
   "execution_count": 9,
   "metadata": {},
   "outputs": [
    {
     "name": "stdout",
     "output_type": "stream",
     "text": [
      "E1 = 3.387440718919593e-7, E2 = 2.8722404137467914e-7.\n"
     ]
    }
   ],
   "source": [
    "h1 = iTEBD.expect(psi, H, 1, 2)\n",
    "h2 = iTEBD.expect(psi, H, 2, 1)\n",
    "println(\"E1 = $h1, E2 = $h2.\")"
   ]
  }
 ],
 "metadata": {
  "kernelspec": {
   "display_name": "Julia 1.10.6",
   "language": "julia",
   "name": "julia-1.10"
  },
  "language_info": {
   "file_extension": ".jl",
   "mimetype": "application/julia",
   "name": "julia",
   "version": "1.10.6"
  },
  "orig_nbformat": 4
 },
 "nbformat": 4,
 "nbformat_minor": 2
}

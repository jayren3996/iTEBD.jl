{
 "cells": [
  {
   "cell_type": "code",
   "execution_count": 1,
   "metadata": {},
   "outputs": [],
   "source": [
    "include(\"../src/iTEBD.jl\")\n",
    "using Main.iTEBD, LinearAlgebra, Test"
   ]
  },
  {
   "cell_type": "markdown",
   "metadata": {},
   "source": [
    "### Test AKLT"
   ]
  },
  {
   "cell_type": "code",
   "execution_count": 2,
   "metadata": {},
   "outputs": [
    {
     "data": {
      "text/plain": [
       "\u001b[32m\u001b[1mTest Passed\u001b[22m\u001b[39m"
      ]
     },
     "metadata": {},
     "output_type": "display_data"
    }
   ],
   "source": [
    "aklt = begin\n",
    "    aklt_tensor = zeros(2,3,2)\n",
    "    aklt_tensor[1,1,2] = +sqrt(2/3)\n",
    "    aklt_tensor[1,2,1] = -sqrt(1/3)\n",
    "    aklt_tensor[2,2,2] = +sqrt(1/3)\n",
    "    aklt_tensor[2,3,1] = -sqrt(2/3)\n",
    "    aklt_tensor\n",
    "    iMPS([aklt_tensor, aklt_tensor])\n",
    "end\n",
    "\n",
    "@test aklt.λ[1] ≈ fill(sqrt(2)/2, 2)\n",
    "@test aklt.λ[2] ≈ fill(sqrt(2)/2, 2)"
   ]
  },
  {
   "cell_type": "markdown",
   "metadata": {},
   "source": [
    "#### Test left and right canonical form"
   ]
  },
  {
   "cell_type": "code",
   "execution_count": 13,
   "metadata": {},
   "outputs": [
    {
     "data": {
      "text/plain": [
       "\u001b[32m\u001b[1mTest Passed\u001b[22m\u001b[39m"
      ]
     },
     "metadata": {},
     "output_type": "display_data"
    }
   ],
   "source": [
    "Γ1, λ1 = aklt[1]\n",
    "Γ2, λ2 = aklt[2]\n",
    "\n",
    "Γ = iTEBD.tensor_rmul!(deepcopy(Γ1), λ1)\n",
    "M = reshape(Γ, 2, 6)\n",
    "@test norm(M * M' - I) ≈ 0 atol = 1e-12\n",
    "\n",
    "Γ = iTEBD.tensor_rmul!(deepcopy(Γ2), λ2)\n",
    "M = reshape(Γ, 2, 6)\n",
    "@test norm(M * M' - I) ≈ 0 atol = 1e-12\n",
    "\n",
    "Γ = iTEBD.tensor_lmul!(λ2, deepcopy(Γ1))\n",
    "M = reshape(Γ, 6, 2)\n",
    "@test norm(M' * M - I) ≈ 0 atol = 1e-12\n",
    "\n",
    "Γ = iTEBD.tensor_lmul!(λ1, deepcopy(Γ2))\n",
    "M = reshape(Γ, 6, 2)\n",
    "@test norm(M' * M - I) ≈ 0 atol = 1e-12"
   ]
  },
  {
   "cell_type": "markdown",
   "metadata": {},
   "source": [
    "### Test random tensor"
   ]
  },
  {
   "cell_type": "code",
   "execution_count": 25,
   "metadata": {},
   "outputs": [
    {
     "data": {
      "text/plain": [
       "2-element Vector{Vector{Float64}}:\n",
       " [0.6682168843749184, 0.5462153018123038, 0.5051089382523047]\n",
       " [0.7475051412261391, 0.510536837273602, 0.4249567055914725]"
      ]
     },
     "metadata": {},
     "output_type": "display_data"
    }
   ],
   "source": [
    "A = randn(ComplexF64, 3, 3, 3)\n",
    "B = randn(ComplexF64, 3, 3, 3)\n",
    "ψ = iMPS([A, B])\n",
    "ψ.λ"
   ]
  },
  {
   "cell_type": "code",
   "execution_count": 26,
   "metadata": {},
   "outputs": [
    {
     "data": {
      "text/plain": [
       "\u001b[32m\u001b[1mTest Passed\u001b[22m\u001b[39m"
      ]
     },
     "metadata": {},
     "output_type": "display_data"
    }
   ],
   "source": [
    "ψ2 = iMPS([A,B], renormalize=false)\n",
    "n2 = inner_product(ψ2, ψ2)\n",
    "c2 = inner_product(ψ2, ψ)\n",
    "@test n2 - c2^2 ≈ 0 atol=1e-8"
   ]
  },
  {
   "cell_type": "code",
   "execution_count": 27,
   "metadata": {},
   "outputs": [
    {
     "data": {
      "text/plain": [
       "\u001b[32m\u001b[1mTest Passed\u001b[22m\u001b[39m"
      ]
     },
     "metadata": {},
     "output_type": "display_data"
    }
   ],
   "source": [
    "Γ1, λ1 = ψ[1]\n",
    "Γ2, λ2 = ψ[2]\n",
    "\n",
    "Γ = iTEBD.tensor_rmul!(deepcopy(Γ1), λ1)\n",
    "M = reshape(Γ, 3, 9)\n",
    "@test norm(M * M' - I) ≈ 0 atol = 1e-12\n",
    "\n",
    "Γ = iTEBD.tensor_rmul!(deepcopy(Γ2), λ2)\n",
    "M = reshape(Γ, 3, 9)\n",
    "@test norm(M * M' - I) ≈ 0 atol = 1e-12\n",
    "\n",
    "Γ = iTEBD.tensor_lmul!(λ2, deepcopy(Γ1))\n",
    "M = reshape(Γ, 9, 3)\n",
    "@test norm(M' * M - I) ≈ 0 atol = 1e-12\n",
    "\n",
    "Γ = iTEBD.tensor_lmul!(λ1, deepcopy(Γ2))\n",
    "M = reshape(Γ, 9, 3)\n",
    "@test norm(M' * M - I) ≈ 0 atol = 1e-12"
   ]
  },
  {
   "cell_type": "markdown",
   "metadata": {},
   "source": [
    "### Dimension redundant"
   ]
  },
  {
   "cell_type": "code",
   "execution_count": 28,
   "metadata": {},
   "outputs": [
    {
     "data": {
      "text/plain": [
       "2-element Vector{Vector{Float64}}:\n",
       " [0.824736000306301, 0.5119106099867542, 0.24032906021069134]\n",
       " [0.8821550954884595, 0.4110792550581315, 0.22981782690774635]"
      ]
     },
     "metadata": {},
     "output_type": "display_data"
    }
   ],
   "source": [
    "A = zeros(ComplexF64, 4, 3, 4)\n",
    "B = zeros(ComplexF64, 4, 3, 4)\n",
    "A[1:3, :, 1:3] = randn(ComplexF64, 3, 3, 3)\n",
    "B[1:3, :, 1:3] = randn(ComplexF64, 3, 3, 3)\n",
    "\n",
    "h1 = randn(ComplexF64, 4, 4) |> Hermitian |> Array\n",
    "h2 = randn(ComplexF64, 4, 4) |> Hermitian |> Array\n",
    "U1, U2 = exp(-1im*h1), exp(-1im*h1)\n",
    "\n",
    "A = iTEBD.canonical_gauging(A, U1, U2')\n",
    "B = iTEBD.canonical_gauging(B, U2, U1')\n",
    "\n",
    "ψ = iMPS([A, B])\n",
    "ψ.λ"
   ]
  },
  {
   "cell_type": "code",
   "execution_count": 29,
   "metadata": {},
   "outputs": [
    {
     "data": {
      "text/plain": [
       "\u001b[32m\u001b[1mTest Passed\u001b[22m\u001b[39m"
      ]
     },
     "metadata": {},
     "output_type": "display_data"
    }
   ],
   "source": [
    "ψ2 = iMPS([A,B], renormalize=false)\n",
    "n2 = inner_product(ψ2, ψ2)\n",
    "c2 = inner_product(ψ2, ψ)\n",
    "@test n2 - c2^2 ≈ 0 atol=1e-8"
   ]
  }
 ],
 "metadata": {
  "kernelspec": {
   "display_name": "Julia 1.10.6",
   "language": "julia",
   "name": "julia-1.10"
  },
  "language_info": {
   "file_extension": ".jl",
   "mimetype": "application/julia",
   "name": "julia",
   "version": "1.10.6"
  },
  "orig_nbformat": 4
 },
 "nbformat": 4,
 "nbformat_minor": 2
}
